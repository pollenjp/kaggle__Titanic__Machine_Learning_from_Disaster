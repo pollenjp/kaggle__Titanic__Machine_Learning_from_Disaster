{
 "cells": [
  {
   "cell_type": "markdown",
   "metadata": {
    "toc": true
   },
   "source": [
    "<h1>Table of Contents<span class=\"tocSkip\"></span></h1>\n",
    "<div class=\"toc\" style=\"margin-top: 1em;\"><ul class=\"toc-item\"><li><span><a href=\"#Ensenble-System\" data-toc-modified-id=\"Ensenble-System-1\">Ensenble System</a></span></li><li><span><a href=\"#データ読み取り\" data-toc-modified-id=\"データ読み取り-2\">データ読み取り</a></span></li><li><span><a href=\"#Bagging\" data-toc-modified-id=\"Bagging-3\">Bagging</a></span></li><li><span><a href=\"#Boosting\" data-toc-modified-id=\"Boosting-4\">Boosting</a></span></li><li><span><a href=\"#Stacking\" data-toc-modified-id=\"Stacking-5\">Stacking</a></span></li></ul></div>"
   ]
  },
  {
   "cell_type": "markdown",
   "metadata": {},
   "source": [
    "- Titanic\n",
    "- https://www.kaggle.com/c/titanic"
   ]
  },
  {
   "cell_type": "code",
   "execution_count": 44,
   "metadata": {},
   "outputs": [],
   "source": [
    "import numpy as np\n",
    "import pandas as pd\n",
    "\n",
    "from sklearn.model_selection import train_test_split, cross_val_score, KFold\n",
    "from sklearn.ensemble import BaggingClassifier, AdaBoostClassifier, RandomForestClassifier\n",
    "from sklearn.tree import DecisionTreeClassifier\n",
    "from sklearn.preprocessing import StandardScaler\n",
    "from sklearn.naive_bayes import GaussianNB\n",
    "from sklearn.neighbors import KNeighborsClassifier\n",
    "from sklearn.linear_model import LogisticRegression"
   ]
  },
  {
   "cell_type": "markdown",
   "metadata": {},
   "source": [
    "# Ensenble System"
   ]
  },
  {
   "cell_type": "markdown",
   "metadata": {},
   "source": [
    "# データ読み取り"
   ]
  },
  {
   "cell_type": "code",
   "execution_count": 4,
   "metadata": {},
   "outputs": [
    {
     "name": "stdout",
     "output_type": "stream",
     "text": [
      "60 default:60\n",
      "200 default:20\n",
      "60\n",
      "200\n"
     ]
    }
   ],
   "source": [
    "print(pd.options.display.max_rows, 'default:60')\n",
    "print(pd.options.display.max_columns, 'default:20')\n",
    "pd.options.display.max_columns = 200\n",
    "print(pd.options.display.max_rows)\n",
    "print(pd.options.display.max_columns)"
   ]
  },
  {
   "cell_type": "code",
   "execution_count": 10,
   "metadata": {},
   "outputs": [
    {
     "name": "stdout",
     "output_type": "stream",
     "text": [
      "(891, 11)\n",
      "乗客員： 891\n",
      "特徴量： 11\n"
     ]
    },
    {
     "data": {
      "text/html": [
       "<div>\n",
       "<style scoped>\n",
       "    .dataframe tbody tr th:only-of-type {\n",
       "        vertical-align: middle;\n",
       "    }\n",
       "\n",
       "    .dataframe tbody tr th {\n",
       "        vertical-align: top;\n",
       "    }\n",
       "\n",
       "    .dataframe thead th {\n",
       "        text-align: right;\n",
       "    }\n",
       "</style>\n",
       "<table border=\"1\" class=\"dataframe\">\n",
       "  <thead>\n",
       "    <tr style=\"text-align: right;\">\n",
       "      <th></th>\n",
       "      <th>Survived</th>\n",
       "      <th>Pclass</th>\n",
       "      <th>Name</th>\n",
       "      <th>Sex</th>\n",
       "      <th>Age</th>\n",
       "      <th>SibSp</th>\n",
       "      <th>Parch</th>\n",
       "      <th>Ticket</th>\n",
       "      <th>Fare</th>\n",
       "      <th>Cabin</th>\n",
       "      <th>Embarked</th>\n",
       "    </tr>\n",
       "    <tr>\n",
       "      <th>PassengerId</th>\n",
       "      <th></th>\n",
       "      <th></th>\n",
       "      <th></th>\n",
       "      <th></th>\n",
       "      <th></th>\n",
       "      <th></th>\n",
       "      <th></th>\n",
       "      <th></th>\n",
       "      <th></th>\n",
       "      <th></th>\n",
       "      <th></th>\n",
       "    </tr>\n",
       "  </thead>\n",
       "  <tbody>\n",
       "    <tr>\n",
       "      <th>1</th>\n",
       "      <td>0</td>\n",
       "      <td>3</td>\n",
       "      <td>Braund, Mr. Owen Harris</td>\n",
       "      <td>male</td>\n",
       "      <td>22.0</td>\n",
       "      <td>1</td>\n",
       "      <td>0</td>\n",
       "      <td>A/5 21171</td>\n",
       "      <td>7.2500</td>\n",
       "      <td>NaN</td>\n",
       "      <td>S</td>\n",
       "    </tr>\n",
       "    <tr>\n",
       "      <th>2</th>\n",
       "      <td>1</td>\n",
       "      <td>1</td>\n",
       "      <td>Cumings, Mrs. John Bradley (Florence Briggs Th...</td>\n",
       "      <td>female</td>\n",
       "      <td>38.0</td>\n",
       "      <td>1</td>\n",
       "      <td>0</td>\n",
       "      <td>PC 17599</td>\n",
       "      <td>71.2833</td>\n",
       "      <td>C85</td>\n",
       "      <td>C</td>\n",
       "    </tr>\n",
       "  </tbody>\n",
       "</table>\n",
       "</div>"
      ],
      "text/plain": [
       "             Survived  Pclass  \\\n",
       "PassengerId                     \n",
       "1                   0       3   \n",
       "2                   1       1   \n",
       "\n",
       "                                                          Name     Sex   Age  \\\n",
       "PassengerId                                                                    \n",
       "1                                      Braund, Mr. Owen Harris    male  22.0   \n",
       "2            Cumings, Mrs. John Bradley (Florence Briggs Th...  female  38.0   \n",
       "\n",
       "             SibSp  Parch     Ticket     Fare Cabin Embarked  \n",
       "PassengerId                                                   \n",
       "1                1      0  A/5 21171   7.2500   NaN        S  \n",
       "2                1      0   PC 17599  71.2833   C85        C  "
      ]
     },
     "execution_count": 10,
     "metadata": {},
     "output_type": "execute_result"
    }
   ],
   "source": [
    "path_to_train_csv = '../data/train.csv'\n",
    "df = pd.read_csv( path_to_train_csv,\n",
    "                  index_col='PassengerId')\n",
    "print(df.shape)\n",
    "print(\"乗客員：\", len(df.index))\n",
    "print(\"特徴量：\", len(df.columns))\n",
    "df.head(2)"
   ]
  },
  {
   "cell_type": "code",
   "execution_count": 12,
   "metadata": {},
   "outputs": [],
   "source": [
    "df_2 = df.drop(labels=['Age', 'Cabin'],\n",
    "        axis=1)\n",
    "df_3 = df_2.dropna(axis=0,\n",
    "            subset=['Embarked'])\n",
    "df_4 = df_3.drop(labels='Name',\n",
    "                 axis=1)\n",
    "# カテゴリデータの処理\n",
    "df_5 = pd.get_dummies(df_4[df_4.columns[1:]])\n",
    "df_6 = df_4.drop(labels='Ticket',\n",
    "                 axis=1)\n",
    "df_7 = pd.get_dummies(df_6[df_6.columns[1:]])"
   ]
  },
  {
   "cell_type": "code",
   "execution_count": 17,
   "metadata": {},
   "outputs": [
    {
     "name": "stdout",
     "output_type": "stream",
     "text": [
      "(889, 9) (889,)\n"
     ]
    }
   ],
   "source": [
    "X = df_7.values\n",
    "y = df_6[df_6.columns[0]].values\n",
    "print(X.shape, y.shape)"
   ]
  },
  {
   "cell_type": "markdown",
   "metadata": {},
   "source": [
    "データ分割"
   ]
  },
  {
   "cell_type": "code",
   "execution_count": 18,
   "metadata": {},
   "outputs": [],
   "source": [
    "X_train, X_test, y_train, y_test = \\\n",
    "        train_test_split(X, y, test_size=0.3, random_state=0)"
   ]
  },
  {
   "cell_type": "markdown",
   "metadata": {},
   "source": [
    "標準化"
   ]
  },
  {
   "cell_type": "code",
   "execution_count": 21,
   "metadata": {},
   "outputs": [],
   "source": [
    "std = StandardScaler()\n",
    "X_train_std = std.fit_transform(X_train)\n",
    "X_test_std = std.transform(X_test)"
   ]
  },
  {
   "cell_type": "markdown",
   "metadata": {},
   "source": [
    "# Bagging"
   ]
  },
  {
   "cell_type": "code",
   "execution_count": 24,
   "metadata": {},
   "outputs": [],
   "source": [
    "seed = 7\n",
    "# k-fold cross-validation\n",
    "kfold = KFold( n_splits=5,\n",
    "               random_state=seed)"
   ]
  },
  {
   "cell_type": "code",
   "execution_count": 26,
   "metadata": {},
   "outputs": [],
   "source": [
    "# Define a decision tree classifier\n",
    "cart = DecisionTreeClassifier()\n",
    "num_trees = 100"
   ]
  },
  {
   "cell_type": "code",
   "execution_count": 68,
   "metadata": {},
   "outputs": [],
   "source": [
    "# create classification model for bagging\n",
    "model = BaggingClassifier( base_estimator=cart,\n",
    "                           n_estimators=num_trees,\n",
    "                           random_state=seed)"
   ]
  },
  {
   "cell_type": "code",
   "execution_count": 32,
   "metadata": {},
   "outputs": [],
   "source": [
    "results = cross_val_score(model, X_train_std, y_train, cv=kfold)"
   ]
  },
  {
   "cell_type": "code",
   "execution_count": 33,
   "metadata": {},
   "outputs": [
    {
     "name": "stdout",
     "output_type": "stream",
     "text": [
      "Model:  0  Accuracy is:  0.784\n",
      "Model:  1  Accuracy is:  0.8\n",
      "Model:  2  Accuracy is:  0.822580645161\n",
      "Model:  3  Accuracy is:  0.766129032258\n",
      "Model:  4  Accuracy is:  0.83064516129\n"
     ]
    }
   ],
   "source": [
    "for i in range(len(results)):\n",
    "    print('Model: ', i, ' Accuracy is: ', results[i])"
   ]
  },
  {
   "cell_type": "code",
   "execution_count": 40,
   "metadata": {},
   "outputs": [
    {
     "data": {
      "text/plain": [
       "0.80067096774193547"
      ]
     },
     "execution_count": 40,
     "metadata": {},
     "output_type": "execute_result"
    }
   ],
   "source": [
    "from statistics import mean\n",
    "mean(results)"
   ]
  },
  {
   "cell_type": "markdown",
   "metadata": {
    "heading_collapsed": true
   },
   "source": [
    "# Boosting"
   ]
  },
  {
   "cell_type": "code",
   "execution_count": 38,
   "metadata": {
    "hidden": true
   },
   "outputs": [
    {
     "name": "stdout",
     "output_type": "stream",
     "text": [
      "accuracy is:  74.53183520599251\n"
     ]
    }
   ],
   "source": [
    "# define a decision tree classifier\n",
    "cart = DecisionTreeClassifier()\n",
    "num_trees = 25\n",
    "\n",
    "# create classification model for boosting\n",
    "model = AdaBoostClassifier( base_estimator=cart,\n",
    "                            n_estimators=num_trees,\n",
    "                            learning_rate=0.1)\n",
    "# fit\n",
    "model.fit(X_train_std, y_train)\n",
    "\n",
    "pred_label = model.predict(X_test_std)\n",
    "nnz = np.float(np.shape(y_test)[0] - np.count_nonzero(pred_label - y_test))\n",
    "acc = 100*nnz/np.shape(y_test)[0]\n",
    "\n",
    "print('accuracy is: ', acc)"
   ]
  },
  {
   "cell_type": "markdown",
   "metadata": {
    "heading_collapsed": true
   },
   "source": [
    "# Stacking"
   ]
  },
  {
   "cell_type": "code",
   "execution_count": 41,
   "metadata": {
    "hidden": true
   },
   "outputs": [],
   "source": [
    "# define a method to caluculate accuracy\n",
    "def CalculateAccuracy(y_test, pred_label):\n",
    "    nnz = np.shape(y_test)[0] - np.count_nonzero(pred_label - y_test)\n",
    "    acc = 100*nnz/float(np.shape(y_test)[0])\n",
    "    return acc"
   ]
  },
  {
   "cell_type": "code",
   "execution_count": 47,
   "metadata": {
    "hidden": true
   },
   "outputs": [],
   "source": [
    "# clf:classifier\n",
    "clf1 = KNeighborsClassifier(n_neighbors=2)\n",
    "clf2 = RandomForestClassifier(n_estimators=2,\n",
    "                              random_state=1)\n",
    "clf3 = GaussianNB()"
   ]
  },
  {
   "cell_type": "code",
   "execution_count": 56,
   "metadata": {
    "hidden": true
   },
   "outputs": [],
   "source": [
    "lr = LogisticRegression()"
   ]
  },
  {
   "cell_type": "code",
   "execution_count": 48,
   "metadata": {
    "hidden": true
   },
   "outputs": [
    {
     "data": {
      "text/plain": [
       "GaussianNB(priors=None)"
      ]
     },
     "execution_count": 48,
     "metadata": {},
     "output_type": "execute_result"
    }
   ],
   "source": [
    "clf1.fit(X_train_std, y_train)\n",
    "clf2.fit(X_train_std, y_train)\n",
    "clf3.fit(X_train_std, y_train)"
   ]
  },
  {
   "cell_type": "markdown",
   "metadata": {
    "hidden": true
   },
   "source": [
    "train accuracy"
   ]
  },
  {
   "cell_type": "code",
   "execution_count": 60,
   "metadata": {
    "hidden": true
   },
   "outputs": [
    {
     "name": "stdout",
     "output_type": "stream",
     "text": [
      "accuracy from KNN:  87.13826366559485\n",
      "accuracy from KNN:  89.06752411575563\n",
      "accuracy from KNN:  80.2250803858521\n"
     ]
    }
   ],
   "source": [
    "f1 = clf1.predict(X_train_std)\n",
    "acc1 = CalculateAccuracy(y_train, f1)\n",
    "print('accuracy from KNN: ', acc1)\n",
    "\n",
    "f2 = clf2.predict(X_train_std)\n",
    "acc2 = CalculateAccuracy(y_train, f2)\n",
    "print('accuracy from KNN: ', acc2)\n",
    "\n",
    "f3 = clf3.predict(X_train_std)\n",
    "acc3 = CalculateAccuracy(y_train, f3)\n",
    "print('accuracy from KNN: ', acc3)"
   ]
  },
  {
   "cell_type": "code",
   "execution_count": 61,
   "metadata": {
    "hidden": true
   },
   "outputs": [
    {
     "name": "stdout",
     "output_type": "stream",
     "text": [
      "accuracy from stacking:  89.87138263665595\n"
     ]
    }
   ],
   "source": [
    "f = [f1, f2, f3]\n",
    "f = np.transpose(f)\n",
    "\n",
    "lr.fit(f, y_train)\n",
    "final = lr.predict(f)\n",
    "acc4 = CalculateAccuracy(y_train, final)\n",
    "print('accuracy from stacking: ', acc4)"
   ]
  },
  {
   "cell_type": "markdown",
   "metadata": {
    "hidden": true
   },
   "source": [
    "test accuracy"
   ]
  },
  {
   "cell_type": "code",
   "execution_count": 65,
   "metadata": {
    "hidden": true
   },
   "outputs": [
    {
     "name": "stdout",
     "output_type": "stream",
     "text": [
      "accuracy from KNN:  74.53183520599251\n",
      "accuracy from KNN:  77.90262172284645\n",
      "accuracy from KNN:  76.02996254681648\n"
     ]
    }
   ],
   "source": [
    "f1 = clf1.predict(X_test_std)\n",
    "acc1 = CalculateAccuracy(y_test, f1)\n",
    "print('accuracy from KNN: ', acc1)\n",
    "\n",
    "f2 = clf2.predict(X_test_std)\n",
    "acc2 = CalculateAccuracy(y_test, f2)\n",
    "print('accuracy from KNN: ', acc2)\n",
    "\n",
    "f3 = clf3.predict(X_test_std)\n",
    "acc3 = CalculateAccuracy(y_test, f3)\n",
    "print('accuracy from KNN: ', acc3)"
   ]
  },
  {
   "cell_type": "code",
   "execution_count": 67,
   "metadata": {
    "hidden": true
   },
   "outputs": [
    {
     "name": "stdout",
     "output_type": "stream",
     "text": [
      "accuracy from stacking:  76.02996254681648\n"
     ]
    }
   ],
   "source": [
    "f = [f1, f2, f3]\n",
    "f = np.transpose(f)\n",
    "\n",
    "lr.fit(f, y_test)\n",
    "final = lr.predict(f)\n",
    "acc4 = CalculateAccuracy(y_test, final)\n",
    "print('accuracy from stacking: ', acc4)"
   ]
  },
  {
   "cell_type": "code",
   "execution_count": null,
   "metadata": {
    "hidden": true
   },
   "outputs": [],
   "source": []
  }
 ],
 "metadata": {
  "kernelspec": {
   "display_name": "Python 3",
   "language": "python",
   "name": "python3"
  },
  "language_info": {
   "codemirror_mode": {
    "name": "ipython",
    "version": 3
   },
   "file_extension": ".py",
   "mimetype": "text/x-python",
   "name": "python",
   "nbconvert_exporter": "python",
   "pygments_lexer": "ipython3",
   "version": "3.5.2"
  },
  "toc": {
   "nav_menu": {},
   "number_sections": false,
   "sideBar": true,
   "skip_h1_title": false,
   "toc_cell": true,
   "toc_position": {},
   "toc_section_display": "block",
   "toc_window_display": true
  }
 },
 "nbformat": 4,
 "nbformat_minor": 2
}
